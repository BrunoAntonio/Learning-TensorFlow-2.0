{
 "cells": [
  {
   "cell_type": "code",
   "execution_count": 2,
   "metadata": {},
   "outputs": [
    {
     "name": "stderr",
     "output_type": "stream",
     "text": [
      "E:\\Continuum\\anaconda3\\envs\\tf2\\lib\\site-packages\\h5py\\__init__.py:36: FutureWarning: Conversion of the second argument of issubdtype from `float` to `np.floating` is deprecated. In future, it will be treated as `np.float64 == np.dtype(float).type`.\n",
      "  from ._conv import register_converters as _register_converters\n",
      "Using TensorFlow backend.\n"
     ]
    }
   ],
   "source": [
    "\"\"\"\n",
    "import library\n",
    "\"\"\"\n",
    "import tensorflow as tf\n",
    "import numpy\n",
    "import matplotlib.pyplot as plt\n",
    "import pandas\n",
    "import math\n",
    "from keras.models import Sequential\n",
    "from keras.layers import Dense\n",
    "from keras.layers import LSTM\n",
    "from sklearn.preprocessing import MinMaxScaler\n",
    "from sklearn.metrics import mean_squared_error\n"
   ]
  },
  {
   "cell_type": "code",
   "execution_count": 3,
   "metadata": {},
   "outputs": [],
   "source": [
    "\n",
    "# fix random seed for reproducibility\n",
    "numpy.random.seed(7)\n",
    "\n",
    "# load the dataset\n",
    "dataframe = pandas.read_csv('AirPassengers.csv', usecols=[1], engine='python', skipfooter=3)\n",
    "dataset = dataframe.values\n",
    "dataset = dataset.astype('float32')"
   ]
  },
  {
   "cell_type": "code",
   "execution_count": 4,
   "metadata": {},
   "outputs": [],
   "source": [
    "# normalize the dataset\n",
    "scaler = MinMaxScaler(feature_range=(0, 1))\n",
    "dataset = scaler.fit_transform(dataset)"
   ]
  },
  {
   "cell_type": "code",
   "execution_count": 5,
   "metadata": {},
   "outputs": [
    {
     "name": "stdout",
     "output_type": "stream",
     "text": [
      "train_data_size: 112  test_data_size: 29\n"
     ]
    }
   ],
   "source": [
    "\n",
    "#Split data int train and test in the ration of 80/20\n",
    " \n",
    " \n",
    "train_size = int(len(dataset) * 0.80)\n",
    "test_size = len(dataset) - train_size\n",
    "train, test = dataset[0:train_size,:], dataset[train_size:len(dataset),:]\n",
    "print(\"train_data_size: \"+str(len(train)), \" test_data_size: \"+str(len(test)))\n"
   ]
  },
  {
   "cell_type": "code",
   "execution_count": 6,
   "metadata": {},
   "outputs": [],
   "source": [
    "# convert array to matrix\n",
    "def create_dataset(dataset, steps=1):\n",
    "    dataX, dataY = [], []\n",
    "    for i in range(len(dataset)-steps-1):\n",
    "        a = dataset[i:(i+steps), 0]\n",
    "        dataX.append(a)\n",
    "        dataY.append(dataset[i + steps, 0])\n",
    "    return numpy.array(dataX), numpy.array(dataY)"
   ]
  },
  {
   "cell_type": "code",
   "execution_count": 7,
   "metadata": {},
   "outputs": [],
   "source": [
    "# reshape into X=t and Y=t+1\n",
    "steps = 1\n",
    "trainX, trainY = create_dataset(train, steps)\n",
    "testX, testY = create_dataset(test, steps)\n",
    "\n",
    "# reshape input to be [samples, time steps, features]\n",
    "trainX = numpy.reshape(trainX, (trainX.shape[0], 1, trainX.shape[1]))\n",
    "testX = numpy.reshape(testX, (testX.shape[0], 1, testX.shape[1]))"
   ]
  },
  {
   "cell_type": "markdown",
   "metadata": {},
   "source": [
    "\"\"\" The network has a visible layer with 1 input, a hidden layer with\n",
    "4 LSTM blocks or neurons and an output layer that makes a single value\n",
    "prediction. The default sigmoid activation function is used for the\n",
    "LSTM blocks. The network is trained for 100 epochs and a batch size of\n",
    "1 is used.\"\"\"\n",
    "\n",
    "# create and fit the LSTM network\n"
   ]
  },
  {
   "cell_type": "code",
   "execution_count": 8,
   "metadata": {},
   "outputs": [],
   "source": [
    "layers = [\n",
    "    tf.keras.layers.LSTM(4, input_shape=(1,1),return_sequences=True),\n",
    "    tf.keras.layers.Dense(units=1)\n",
    "]"
   ]
  },
  {
   "cell_type": "code",
   "execution_count": 9,
   "metadata": {},
   "outputs": [],
   "source": [
    "model = tf.keras.Sequential(layers)"
   ]
  },
  {
   "cell_type": "code",
   "execution_count": 10,
   "metadata": {},
   "outputs": [
    {
     "name": "stderr",
     "output_type": "stream",
     "text": [
      "WARNING: Logging before flag parsing goes to stderr.\n",
      "W0412 09:47:14.979501  6340 training.py:686] The `nb_epoch` argument in `fit` has been renamed `epochs`.\n"
     ]
    },
    {
     "name": "stdout",
     "output_type": "stream",
     "text": [
      "Epoch 1/100\n",
      "110/110 - 1s - loss: 0.0674\n",
      "Epoch 2/100\n",
      "110/110 - 0s - loss: 0.0344\n",
      "Epoch 3/100\n",
      "110/110 - 0s - loss: 0.0253\n",
      "Epoch 4/100\n",
      "110/110 - 0s - loss: 0.0223\n",
      "Epoch 5/100\n",
      "110/110 - 0s - loss: 0.0205\n",
      "Epoch 6/100\n",
      "110/110 - 0s - loss: 0.0188\n",
      "Epoch 7/100\n",
      "110/110 - 0s - loss: 0.0169\n",
      "Epoch 8/100\n",
      "110/110 - 0s - loss: 0.0153\n",
      "Epoch 9/100\n",
      "110/110 - 0s - loss: 0.0134\n",
      "Epoch 10/100\n",
      "110/110 - 0s - loss: 0.0115\n",
      "Epoch 11/100\n",
      "110/110 - 0s - loss: 0.0100\n",
      "Epoch 12/100\n",
      "110/110 - 0s - loss: 0.0083\n",
      "Epoch 13/100\n",
      "110/110 - 0s - loss: 0.0068\n",
      "Epoch 14/100\n",
      "110/110 - 0s - loss: 0.0056\n",
      "Epoch 15/100\n",
      "110/110 - 0s - loss: 0.0046\n",
      "Epoch 16/100\n",
      "110/110 - 0s - loss: 0.0039\n",
      "Epoch 17/100\n",
      "110/110 - 0s - loss: 0.0033\n",
      "Epoch 18/100\n",
      "110/110 - 0s - loss: 0.0029\n",
      "Epoch 19/100\n",
      "110/110 - 0s - loss: 0.0027\n",
      "Epoch 20/100\n",
      "110/110 - 0s - loss: 0.0026\n",
      "Epoch 21/100\n",
      "110/110 - 0s - loss: 0.0025\n",
      "Epoch 22/100\n",
      "110/110 - 0s - loss: 0.0026\n",
      "Epoch 23/100\n",
      "110/110 - 0s - loss: 0.0025\n",
      "Epoch 24/100\n",
      "110/110 - 0s - loss: 0.0025\n",
      "Epoch 25/100\n",
      "110/110 - 0s - loss: 0.0025\n",
      "Epoch 26/100\n",
      "110/110 - 0s - loss: 0.0025\n",
      "Epoch 27/100\n",
      "110/110 - 0s - loss: 0.0025\n",
      "Epoch 28/100\n",
      "110/110 - 0s - loss: 0.0025\n",
      "Epoch 29/100\n",
      "110/110 - 0s - loss: 0.0025\n",
      "Epoch 30/100\n",
      "110/110 - 0s - loss: 0.0025\n",
      "Epoch 31/100\n",
      "110/110 - 0s - loss: 0.0026\n",
      "Epoch 32/100\n",
      "110/110 - 0s - loss: 0.0025\n",
      "Epoch 33/100\n",
      "110/110 - 0s - loss: 0.0025\n",
      "Epoch 34/100\n",
      "110/110 - 0s - loss: 0.0025\n",
      "Epoch 35/100\n",
      "110/110 - 0s - loss: 0.0025\n",
      "Epoch 36/100\n",
      "110/110 - 0s - loss: 0.0025\n",
      "Epoch 37/100\n",
      "110/110 - 0s - loss: 0.0026\n",
      "Epoch 38/100\n",
      "110/110 - 0s - loss: 0.0025\n",
      "Epoch 39/100\n",
      "110/110 - 0s - loss: 0.0025\n",
      "Epoch 40/100\n",
      "110/110 - 0s - loss: 0.0025\n",
      "Epoch 41/100\n",
      "110/110 - 0s - loss: 0.0024\n",
      "Epoch 42/100\n",
      "110/110 - 0s - loss: 0.0025\n",
      "Epoch 43/100\n",
      "110/110 - 0s - loss: 0.0025\n",
      "Epoch 44/100\n",
      "110/110 - 0s - loss: 0.0025\n",
      "Epoch 45/100\n",
      "110/110 - 0s - loss: 0.0025\n",
      "Epoch 46/100\n",
      "110/110 - 0s - loss: 0.0024\n",
      "Epoch 47/100\n",
      "110/110 - 0s - loss: 0.0025\n",
      "Epoch 48/100\n",
      "110/110 - 0s - loss: 0.0024\n",
      "Epoch 49/100\n",
      "110/110 - 0s - loss: 0.0024\n",
      "Epoch 50/100\n",
      "110/110 - 0s - loss: 0.0025\n",
      "Epoch 51/100\n",
      "110/110 - 0s - loss: 0.0024\n",
      "Epoch 52/100\n",
      "110/110 - 0s - loss: 0.0025\n",
      "Epoch 53/100\n",
      "110/110 - 0s - loss: 0.0025\n",
      "Epoch 54/100\n",
      "110/110 - 0s - loss: 0.0025\n",
      "Epoch 55/100\n",
      "110/110 - 0s - loss: 0.0025\n",
      "Epoch 56/100\n",
      "110/110 - 0s - loss: 0.0024\n",
      "Epoch 57/100\n",
      "110/110 - 0s - loss: 0.0025\n",
      "Epoch 58/100\n",
      "110/110 - 0s - loss: 0.0025\n",
      "Epoch 59/100\n",
      "110/110 - 0s - loss: 0.0025\n",
      "Epoch 60/100\n",
      "110/110 - 0s - loss: 0.0025\n",
      "Epoch 61/100\n",
      "110/110 - 0s - loss: 0.0026\n",
      "Epoch 62/100\n",
      "110/110 - 0s - loss: 0.0025\n",
      "Epoch 63/100\n",
      "110/110 - 0s - loss: 0.0025\n",
      "Epoch 64/100\n",
      "110/110 - 0s - loss: 0.0025\n",
      "Epoch 65/100\n",
      "110/110 - 0s - loss: 0.0024\n",
      "Epoch 66/100\n",
      "110/110 - 0s - loss: 0.0025\n",
      "Epoch 67/100\n",
      "110/110 - 0s - loss: 0.0026\n",
      "Epoch 68/100\n",
      "110/110 - 0s - loss: 0.0026\n",
      "Epoch 69/100\n",
      "110/110 - 0s - loss: 0.0025\n",
      "Epoch 70/100\n",
      "110/110 - 0s - loss: 0.0026\n",
      "Epoch 71/100\n",
      "110/110 - 0s - loss: 0.0025\n",
      "Epoch 72/100\n",
      "110/110 - 0s - loss: 0.0025\n",
      "Epoch 73/100\n",
      "110/110 - 0s - loss: 0.0025\n",
      "Epoch 74/100\n",
      "110/110 - 0s - loss: 0.0024\n",
      "Epoch 75/100\n",
      "110/110 - 0s - loss: 0.0025\n",
      "Epoch 76/100\n",
      "110/110 - 0s - loss: 0.0025\n",
      "Epoch 77/100\n",
      "110/110 - 0s - loss: 0.0024\n",
      "Epoch 78/100\n",
      "110/110 - 0s - loss: 0.0025\n",
      "Epoch 79/100\n",
      "110/110 - 0s - loss: 0.0024\n",
      "Epoch 80/100\n",
      "110/110 - 0s - loss: 0.0024\n",
      "Epoch 81/100\n",
      "110/110 - 0s - loss: 0.0025\n",
      "Epoch 82/100\n",
      "110/110 - 0s - loss: 0.0025\n",
      "Epoch 83/100\n",
      "110/110 - 0s - loss: 0.0025\n",
      "Epoch 84/100\n",
      "110/110 - 0s - loss: 0.0024\n",
      "Epoch 85/100\n",
      "110/110 - 0s - loss: 0.0025\n",
      "Epoch 86/100\n",
      "110/110 - 0s - loss: 0.0025\n",
      "Epoch 87/100\n",
      "110/110 - 0s - loss: 0.0025\n",
      "Epoch 88/100\n",
      "110/110 - 0s - loss: 0.0025\n",
      "Epoch 89/100\n",
      "110/110 - 0s - loss: 0.0025\n",
      "Epoch 90/100\n",
      "110/110 - 0s - loss: 0.0025\n",
      "Epoch 91/100\n",
      "110/110 - 0s - loss: 0.0025\n",
      "Epoch 92/100\n",
      "110/110 - 0s - loss: 0.0025\n",
      "Epoch 93/100\n",
      "110/110 - 0s - loss: 0.0026\n",
      "Epoch 94/100\n",
      "110/110 - 0s - loss: 0.0025\n",
      "Epoch 95/100\n",
      "110/110 - 0s - loss: 0.0025\n",
      "Epoch 96/100\n",
      "110/110 - 0s - loss: 0.0024\n",
      "Epoch 97/100\n",
      "110/110 - 0s - loss: 0.0025\n",
      "Epoch 98/100\n",
      "110/110 - 0s - loss: 0.0025\n",
      "Epoch 99/100\n",
      "110/110 - 0s - loss: 0.0025\n",
      "Epoch 100/100\n",
      "110/110 - 0s - loss: 0.0025\n"
     ]
    },
    {
     "data": {
      "text/plain": [
       "<tensorflow.python.keras.callbacks.History at 0x20621729da0>"
      ]
     },
     "execution_count": 10,
     "metadata": {},
     "output_type": "execute_result"
    }
   ],
   "source": [
    "model.compile(loss='mean_squared_error', optimizer='adam')\n",
    "model.fit(trainX, trainY, nb_epoch=100, batch_size=1, verbose=2)"
   ]
  },
  {
   "cell_type": "code",
   "execution_count": 11,
   "metadata": {},
   "outputs": [],
   "source": [
    "# make predictions\n",
    "trainPredict = model.predict(trainX)\n",
    "testPredict = model.predict(testX)"
   ]
  },
  {
   "cell_type": "code",
   "execution_count": 12,
   "metadata": {},
   "outputs": [
    {
     "data": {
      "text/plain": [
       "(110, 1, 1)"
      ]
     },
     "execution_count": 12,
     "metadata": {},
     "output_type": "execute_result"
    }
   ],
   "source": [
    "#testPredict.shape\n",
    "trainPredict.shape\n"
   ]
  },
  {
   "cell_type": "code",
   "execution_count": 13,
   "metadata": {},
   "outputs": [
    {
     "data": {
      "text/plain": [
       "(27,)"
      ]
     },
     "execution_count": 13,
     "metadata": {},
     "output_type": "execute_result"
    }
   ],
   "source": [
    "testY.shape"
   ]
  },
  {
   "cell_type": "code",
   "execution_count": 14,
   "metadata": {},
   "outputs": [],
   "source": [
    "# invert predictions\n",
    "trainPredict = scaler.inverse_transform(tf.reshape(trainPredict,[110,1]))\n",
    "trainY = scaler.inverse_transform(tf.reshape(trainY,[110,1]))\n",
    "testPredict = scaler.inverse_transform(tf.reshape(testPredict,[27,1]))\n",
    "testY = scaler.inverse_transform(tf.reshape(testY,[27,1]))"
   ]
  },
  {
   "cell_type": "code",
   "execution_count": 15,
   "metadata": {},
   "outputs": [
    {
     "data": {
      "text/plain": [
       "(27, 1)"
      ]
     },
     "execution_count": 15,
     "metadata": {},
     "output_type": "execute_result"
    }
   ],
   "source": [
    "testY.shape"
   ]
  },
  {
   "cell_type": "code",
   "execution_count": 16,
   "metadata": {},
   "outputs": [
    {
     "name": "stdout",
     "output_type": "stream",
     "text": [
      "[117.99999916]\n",
      "[115.89208126 121.59034957 135.02632479 132.13168155 124.45350589\n",
      " 137.92887981 150.59068624 150.59068624 138.89810657 122.54373349\n",
      " 108.355727   121.59034957 118.73645292 129.24522796 143.75652487\n",
      " 137.92887981 128.28496079 151.56988184 172.27360281 172.27360281\n",
      " 160.41214348 135.99297734 117.78726223 142.78323416 147.65734865\n",
      " 152.54976055 180.21762365 165.34541873 174.25722677 180.21762365\n",
      " 201.15921108 201.15921108 186.19037833 164.35766684 148.63440614\n",
      " 168.31173104 173.26519867 182.20729915 195.16696642 183.20262319\n",
      " 185.19418207 220.14415948 232.11542648 244.04854716 211.15231903\n",
      " 193.17072994 174.25722677 196.1653471  198.16251756 198.16251756\n",
      " 238.08793416 237.09328938 231.11903725 245.04066017 265.76616747\n",
      " 273.5955641  239.08227018 213.15099466 182.20729915 203.15749304\n",
      " 206.15536754 190.17778004 237.09328938 229.12543288 236.09828953\n",
      " 265.76616747 302.53233258 293.92880189 260.85265622 231.11903725\n",
      " 205.15604516 231.11903725 244.04854716 235.10301181 268.70700002\n",
      " 270.66439549 271.64212066 314.8275191  359.56649618 344.35122525\n",
      " 312.00462983 275.54625965 239.08227018 279.43916007 285.25638862\n",
      " 278.46699244 316.70445378 312.94657064 317.64136192 368.35530898\n",
      " 401.44578076 394.81403338 351.55376257 306.33257651 272.61916657\n",
      " 306.33257651 314.8275191  301.57995596 352.44880393 345.25562181\n",
      " 351.55376257 408.8094249  442.58044797 444.09506211 393.97938393\n",
      " 344.35122525 305.38390491 334.32811432 337.98861706 317.64136192]\n",
      "Train Score: 25.29 RMSE\n",
      "[434.99999813]\n",
      "[358.68099526 419.26454172 461.8907593  471.954008   393.97938393\n",
      " 355.12691935 310.11781508 335.2449227  356.01723681 339.81216851\n",
      " 395.64747871 387.25655469 407.18196188 447.86007742 501.46644471\n",
      " 508.69266331 441.06092468 396.47956553 357.7942902  394.81403338\n",
      " 404.73121149 383.01386906 406.3662698  439.53649223 447.86007742\n",
      " 492.76000696 547.7498305 ]\n",
      "Test Score: 56.31 RMSE\n"
     ]
    }
   ],
   "source": [
    "# calculate root mean squared error\n",
    "trainScore = math.sqrt(mean_squared_error(trainY, trainPredict[:,0]))\n",
    "print(trainY[0])\n",
    "print(trainPredict[:,0])\n",
    "print('Train Score: %.2f RMSE' % (trainScore))\n",
    "testScore = math.sqrt(mean_squared_error(testY, testPredict[:,0]))\n",
    "print(testY[0])\n",
    "print(testPredict[:,0])\n",
    "print('Test Score: %.2f RMSE' % (testScore))\n"
   ]
  },
  {
   "cell_type": "code",
   "execution_count": 17,
   "metadata": {},
   "outputs": [
    {
     "data": {
      "image/png": "[encoded data removed]",
      "text/plain": [
       "<Figure size 432x288 with 1 Axes>"
      ]
     },
     "metadata": {},
     "output_type": "display_data"
    }
   ],
   "source": [
    "# shift train predictions for plotting\n",
    "trainPredictPlot = numpy.empty_like(dataset)\n",
    "trainPredictPlot[:, :] = numpy.nan\n",
    "trainPredictPlot[steps:len(trainPredict)+steps, :] = trainPredict\n",
    "# shift test predictions for plotting\n",
    "testPredictPlot = numpy.empty_like(dataset)\n",
    "testPredictPlot[:, :] = numpy.nan\n",
    "testPredictPlot[len(trainPredict)+(steps*2)+1:len(dataset)-1, :] = testPredict\n",
    "# plot baseline and predictions\n",
    "plt.plot(scaler.inverse_transform(dataset))\n",
    "plt.plot(trainPredictPlot)\n",
    "plt.plot(testPredictPlot)\n",
    "plt.show()"
   ]
  },
  {
   "cell_type": "code",
   "execution_count": null,
   "metadata": {},
   "outputs": [],
   "source": []
  }
 ],
 "metadata": {
  "kernelspec": {
   "display_name": "Python 3",
   "language": "python",
   "name": "python3"
  },
  "language_info": {
   "codemirror_mode": {
    "name": "ipython",
    "version": 3
   },
   "file_extension": ".py",
   "mimetype": "text/x-python",
   "name": "python",
   "nbconvert_exporter": "python",
   "pygments_lexer": "ipython3",
   "version": "3.6.5"
  }
 },
 "nbformat": 4,
 "nbformat_minor": 2
}
